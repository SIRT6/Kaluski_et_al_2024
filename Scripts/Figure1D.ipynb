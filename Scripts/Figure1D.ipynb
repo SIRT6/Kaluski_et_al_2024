{
 "cells": [
  {
   "cell_type": "code",
   "execution_count": 2,
   "id": "cdd2ba82-a640-42e0-82a7-85a5c93ecd24",
   "metadata": {},
   "outputs": [],
   "source": [
    "library(gridtext)\n",
    "library(ggplot2)\n",
    "library(dplyr)\n",
    "library(tibble)\n",
    "library(ComplexHeatmap)\n",
    "library(circlize)\n",
    "library(wesanderson)\n",
    "library(DOSE)\n",
    "library(ggpubr)\n",
    "library(rstatix)\n",
    "library(ggprism)"
   ]
  },
  {
   "cell_type": "markdown",
   "id": "f9ea7148-277d-436a-9696-82603a46293b",
   "metadata": {},
   "source": [
    "## ESCs data"
   ]
  },
  {
   "cell_type": "code",
   "execution_count": 3,
   "id": "d9835718-4703-4ad3-ba15-4c6a3573f90a",
   "metadata": {},
   "outputs": [],
   "source": [
    "data.normalized <- read.csv('../Data/Metaboanalyst_4.12.21/data_normalized.csv')\n",
    "data.normalized <- column_to_rownames(data.normalized, var = 'X')\n",
    "data.normalized <- data.normalized[-c(1),]\n",
    "data.normalized <- as.data.frame(sapply(data.normalized, as.numeric), row.names = rownames(data.normalized))"
   ]
  },
  {
   "cell_type": "code",
   "execution_count": 5,
   "id": "b8ba6304-6a47-4543-aa10-c52995a50e3a",
   "metadata": {},
   "outputs": [],
   "source": [
    "data.raw <- read.csv('../Data/Metaboanalyst_4.12.21/data_processed.csv')\n",
    "data.raw <- column_to_rownames(data.raw, var = 'X')\n",
    "data.raw <- data.raw[-c(1),]\n",
    "data.raw <- as.data.frame(sapply(data.raw, as.numeric), row.names = rownames(data.raw))"
   ]
  },
  {
   "cell_type": "code",
   "execution_count": 6,
   "id": "5ff77d86-a0e2-4fe3-981a-83eff0bb3780",
   "metadata": {},
   "outputs": [],
   "source": [
    "tryptophan.data <- data.normalized[grep(pattern = 'try', rownames(data.normalized)),]"
   ]
  },
  {
   "cell_type": "code",
   "execution_count": 7,
   "id": "5ec502f5-4d49-43a7-a742-5edf97d1b3f9",
   "metadata": {},
   "outputs": [],
   "source": [
    "tryptophan.data <- as.data.frame(t(tryptophan.data))"
   ]
  },
  {
   "cell_type": "code",
   "execution_count": 8,
   "id": "21a2fc7e-34ea-43a3-83c6-cca48897176c",
   "metadata": {},
   "outputs": [],
   "source": [
    "tryptophan.data$Genotype <- c(rep('S6KO', 3), rep('WT', 3))"
   ]
  },
  {
   "cell_type": "code",
   "execution_count": 9,
   "id": "44fdbe56-6db9-43a4-824f-cecf8a6d1bcd",
   "metadata": {},
   "outputs": [],
   "source": [
    "tryptophan.data$Genotype <- factor(tryptophan.data$Genotype, levels = rev(unique(tryptophan.data$Genotype)))"
   ]
  },
  {
   "cell_type": "code",
   "execution_count": 12,
   "id": "752ebdf3-1515-45d6-a5b7-615a251c6a00",
   "metadata": {},
   "outputs": [
    {
     "data": {
      "text/html": [
       "<table class=\"dataframe\">\n",
       "<caption>A data.frame: 6 × 2</caption>\n",
       "<thead>\n",
       "\t<tr><th></th><th scope=col>tryptophan</th><th scope=col>Genotype</th></tr>\n",
       "\t<tr><th></th><th scope=col>&lt;dbl&gt;</th><th scope=col>&lt;fct&gt;</th></tr>\n",
       "</thead>\n",
       "<tbody>\n",
       "\t<tr><th scope=row>X071912QCCKO1</th><td>1.1426742</td><td>S6KO</td></tr>\n",
       "\t<tr><th scope=row>X071912QCCKO2</th><td>1.0484558</td><td>S6KO</td></tr>\n",
       "\t<tr><th scope=row>X071912QCCKO3</th><td>1.2608864</td><td>S6KO</td></tr>\n",
       "\t<tr><th scope=row>X071912QCCTC1</th><td>0.5734160</td><td>WT  </td></tr>\n",
       "\t<tr><th scope=row>X071912QCCTC2</th><td>0.6054070</td><td>WT  </td></tr>\n",
       "\t<tr><th scope=row>X071912QCCTC3</th><td>0.5937748</td><td>WT  </td></tr>\n",
       "</tbody>\n",
       "</table>\n"
      ],
      "text/latex": [
       "A data.frame: 6 × 2\n",
       "\\begin{tabular}{r|ll}\n",
       "  & tryptophan & Genotype\\\\\n",
       "  & <dbl> & <fct>\\\\\n",
       "\\hline\n",
       "\tX071912QCCKO1 & 1.1426742 & S6KO\\\\\n",
       "\tX071912QCCKO2 & 1.0484558 & S6KO\\\\\n",
       "\tX071912QCCKO3 & 1.2608864 & S6KO\\\\\n",
       "\tX071912QCCTC1 & 0.5734160 & WT  \\\\\n",
       "\tX071912QCCTC2 & 0.6054070 & WT  \\\\\n",
       "\tX071912QCCTC3 & 0.5937748 & WT  \\\\\n",
       "\\end{tabular}\n"
      ],
      "text/markdown": [
       "\n",
       "A data.frame: 6 × 2\n",
       "\n",
       "| <!--/--> | tryptophan &lt;dbl&gt; | Genotype &lt;fct&gt; |\n",
       "|---|---|---|\n",
       "| X071912QCCKO1 | 1.1426742 | S6KO |\n",
       "| X071912QCCKO2 | 1.0484558 | S6KO |\n",
       "| X071912QCCKO3 | 1.2608864 | S6KO |\n",
       "| X071912QCCTC1 | 0.5734160 | WT   |\n",
       "| X071912QCCTC2 | 0.6054070 | WT   |\n",
       "| X071912QCCTC3 | 0.5937748 | WT   |\n",
       "\n"
      ],
      "text/plain": [
       "              tryptophan Genotype\n",
       "X071912QCCKO1 1.1426742  S6KO    \n",
       "X071912QCCKO2 1.0484558  S6KO    \n",
       "X071912QCCKO3 1.2608864  S6KO    \n",
       "X071912QCCTC1 0.5734160  WT      \n",
       "X071912QCCTC2 0.6054070  WT      \n",
       "X071912QCCTC3 0.5937748  WT      "
      ]
     },
     "metadata": {},
     "output_type": "display_data"
    }
   ],
   "source": [
    "tryptophan.data"
   ]
  },
  {
   "cell_type": "code",
   "execution_count": 10,
   "id": "2d5524aa-7875-4ee7-9a9c-e58a44cfe621",
   "metadata": {},
   "outputs": [],
   "source": [
    "pval.esc <- tryptophan.data %>% \n",
    "    rstatix::pairwise_t_test(tryptophan ~ Genotype, p.adjust.method = \"fdr\") %>%\n",
    "    rstatix::add_significance(p.col = \"p.adj\") %>%\n",
    "    rstatix::add_xy_position(x = \"Genotype\")"
   ]
  },
  {
   "cell_type": "markdown",
   "id": "8a3143a2-e079-40c1-b167-553aba9bac9a",
   "metadata": {},
   "source": [
    "## HeLa data"
   ]
  },
  {
   "cell_type": "code",
   "execution_count": 13,
   "id": "00b5411f-ad15-4015-adf6-2c93aefc772d",
   "metadata": {},
   "outputs": [],
   "source": [
    "hela.data <- read.csv(\"../Data/hela.tryptophan.data.csv\", row.names = 1)"
   ]
  },
  {
   "cell_type": "code",
   "execution_count": 14,
   "id": "f908dfdd-77fe-477e-b439-4dabfeae96ca",
   "metadata": {},
   "outputs": [],
   "source": [
    "hela.data$Genotype <- factor(hela.data$Genotype, levels = unique(hela.data$Genotype))"
   ]
  },
  {
   "cell_type": "code",
   "execution_count": 15,
   "id": "e3941302-01e5-4023-8491-8b4c4075dcfa",
   "metadata": {},
   "outputs": [],
   "source": [
    "pval.hela <- hela.data %>% \n",
    "    rstatix::pairwise_t_test(`DL.Tryptophan..neg.` ~ Genotype, p.adjust.method = \"fdr\") %>%\n",
    "    rstatix::add_significance(p.col = \"p.adj\") %>%\n",
    "    rstatix::add_xy_position(x = \"Genotype\")"
   ]
  },
  {
   "cell_type": "code",
   "execution_count": 16,
   "id": "9ea71f7a-dfbd-4937-a4b1-75c3706ef783",
   "metadata": {},
   "outputs": [],
   "source": [
    "pval.hela$y.position <- 25.45"
   ]
  },
  {
   "cell_type": "markdown",
   "id": "4d763b24-9a04-4dec-a5e9-3396bd8f17a1",
   "metadata": {},
   "source": [
    "## SH-SY5Y"
   ]
  },
  {
   "cell_type": "code",
   "execution_count": 17,
   "id": "a509358c-9531-476c-834a-72c824f93b45",
   "metadata": {},
   "outputs": [],
   "source": [
    "data.shsy <- read.csv('../Data/shsy5y.data.log2.csv', row.names = 1)"
   ]
  },
  {
   "cell_type": "code",
   "execution_count": 18,
   "id": "31b0b2d2-2972-44c8-a895-fe05c4e525c3",
   "metadata": {},
   "outputs": [],
   "source": [
    "data.shsy <- as.data.frame(t(data.shsy['tryptophan_202_12.84', ]))"
   ]
  },
  {
   "cell_type": "code",
   "execution_count": 19,
   "id": "885d6393-3105-4ba2-bfc1-8e310322dd06",
   "metadata": {},
   "outputs": [],
   "source": [
    "data.shsy$Genotype <- unlist(strsplit(rownames(data.shsy), split = '\\\\.'))[c(T,F)]"
   ]
  },
  {
   "cell_type": "code",
   "execution_count": 20,
   "id": "37e5107b-cae2-4a6f-943c-f12e2ac46526",
   "metadata": {},
   "outputs": [],
   "source": [
    "data.shsy$Genotype <- c('WT', 'WT', 'WT', 'WT', 'S6KO', 'S6KO', 'S6KO', 'S6KO')"
   ]
  },
  {
   "cell_type": "code",
   "execution_count": 21,
   "id": "b691d6c7-d4a4-4c51-9e9b-cb3e81a92b43",
   "metadata": {},
   "outputs": [],
   "source": [
    "data.shsy$Genotype <- factor(data.shsy$Genotype, levels = unique(data.shsy$Genotype))"
   ]
  },
  {
   "cell_type": "code",
   "execution_count": 22,
   "id": "807cc1cf-723c-4ab4-a5ec-df8f364c0a04",
   "metadata": {},
   "outputs": [],
   "source": [
    "pval.shsy <- data.shsy %>% \n",
    "        rstatix::pairwise_t_test(tryptophan_202_12.84 ~ Genotype, p.adjust.method = \"fdr\") %>%\n",
    "        rstatix::add_significance(p.col = \"p.adj\") %>%\n",
    "        rstatix::add_xy_position(x = \"Genotype\")"
   ]
  },
  {
   "cell_type": "code",
   "execution_count": 23,
   "id": "d80b866f-c7d7-46c5-999a-5463850c5515",
   "metadata": {},
   "outputs": [],
   "source": [
    "pval.shsy$y.position <- -0.01"
   ]
  },
  {
   "cell_type": "code",
   "execution_count": 24,
   "id": "2f24d458-11cb-41f1-b406-f41bf347e6b0",
   "metadata": {},
   "outputs": [
    {
     "data": {
      "text/html": [
       "<table class=\"dataframe\">\n",
       "<caption>A data.frame: 8 × 2</caption>\n",
       "<thead>\n",
       "\t<tr><th></th><th scope=col>tryptophan_202_12.84</th><th scope=col>Genotype</th></tr>\n",
       "\t<tr><th></th><th scope=col>&lt;dbl&gt;</th><th scope=col>&lt;fct&gt;</th></tr>\n",
       "</thead>\n",
       "<tbody>\n",
       "\t<tr><th scope=row>WT.3</th><td>-0.7353040</td><td>WT  </td></tr>\n",
       "\t<tr><th scope=row>WT.4</th><td>-0.7381720</td><td>WT  </td></tr>\n",
       "\t<tr><th scope=row>WT.5</th><td>-0.5148534</td><td>WT  </td></tr>\n",
       "\t<tr><th scope=row>WT.6</th><td>-0.6864848</td><td>WT  </td></tr>\n",
       "\t<tr><th scope=row>KO.1</th><td>-0.2171450</td><td>S6KO</td></tr>\n",
       "\t<tr><th scope=row>KO.2</th><td>-0.1639266</td><td>S6KO</td></tr>\n",
       "\t<tr><th scope=row>KO.5</th><td>-0.4188785</td><td>S6KO</td></tr>\n",
       "\t<tr><th scope=row>KO.6</th><td>-0.5903187</td><td>S6KO</td></tr>\n",
       "</tbody>\n",
       "</table>\n"
      ],
      "text/latex": [
       "A data.frame: 8 × 2\n",
       "\\begin{tabular}{r|ll}\n",
       "  & tryptophan\\_202\\_12.84 & Genotype\\\\\n",
       "  & <dbl> & <fct>\\\\\n",
       "\\hline\n",
       "\tWT.3 & -0.7353040 & WT  \\\\\n",
       "\tWT.4 & -0.7381720 & WT  \\\\\n",
       "\tWT.5 & -0.5148534 & WT  \\\\\n",
       "\tWT.6 & -0.6864848 & WT  \\\\\n",
       "\tKO.1 & -0.2171450 & S6KO\\\\\n",
       "\tKO.2 & -0.1639266 & S6KO\\\\\n",
       "\tKO.5 & -0.4188785 & S6KO\\\\\n",
       "\tKO.6 & -0.5903187 & S6KO\\\\\n",
       "\\end{tabular}\n"
      ],
      "text/markdown": [
       "\n",
       "A data.frame: 8 × 2\n",
       "\n",
       "| <!--/--> | tryptophan_202_12.84 &lt;dbl&gt; | Genotype &lt;fct&gt; |\n",
       "|---|---|---|\n",
       "| WT.3 | -0.7353040 | WT   |\n",
       "| WT.4 | -0.7381720 | WT   |\n",
       "| WT.5 | -0.5148534 | WT   |\n",
       "| WT.6 | -0.6864848 | WT   |\n",
       "| KO.1 | -0.2171450 | S6KO |\n",
       "| KO.2 | -0.1639266 | S6KO |\n",
       "| KO.5 | -0.4188785 | S6KO |\n",
       "| KO.6 | -0.5903187 | S6KO |\n",
       "\n"
      ],
      "text/plain": [
       "     tryptophan_202_12.84 Genotype\n",
       "WT.3 -0.7353040           WT      \n",
       "WT.4 -0.7381720           WT      \n",
       "WT.5 -0.5148534           WT      \n",
       "WT.6 -0.6864848           WT      \n",
       "KO.1 -0.2171450           S6KO    \n",
       "KO.2 -0.1639266           S6KO    \n",
       "KO.5 -0.4188785           S6KO    \n",
       "KO.6 -0.5903187           S6KO    "
      ]
     },
     "metadata": {},
     "output_type": "display_data"
    }
   ],
   "source": [
    "data.shsy"
   ]
  },
  {
   "cell_type": "markdown",
   "id": "36bd1055-abdf-4be6-aa6f-1b58f8b1c673",
   "metadata": {},
   "source": [
    " "
   ]
  },
  {
   "cell_type": "code",
   "execution_count": 32,
   "id": "4fe2140a-4127-4edc-9ce2-988d790b6954",
   "metadata": {},
   "outputs": [],
   "source": [
    "p.esc <- ggplot(data=tryptophan.data, aes(x = Genotype, y = tryptophan)) +\n",
    "    geom_jitter(aes(color = Genotype), \n",
    "                position = position_jitterdodge(jitter.width = 0.1, dodge.width = 0.5), \n",
    "                size = 5) +\n",
    "    xlab(NULL) +\n",
    "    scale_y_continuous(limits = c(0.5, 1.35), breaks = seq(0.5, 1.3, 0.2))+\n",
    "    theme_dose(20) + ylab(bquote(~log[2]~(Abundance)))+\n",
    "    ggtitle(\"mESC\") +\n",
    "    scale_color_manual(values = c(\"steelblue\", \"#8b0000\")) +\n",
    "    stat_summary(aes(group = Genotype), position = position_dodge(.5), \n",
    "                 geom = \"errorbar\", width = 0.145, size = 1.3, fun.min = min, fun.max = max) +\n",
    "    stat_summary(aes(group=Genotype), position=position_dodge(.5), fun = mean, na.rm = TRUE, \n",
    "               geom = \"point\", color = \"black\", \n",
    "               size = 10, shape = \"-\") +\n",
    "    add_pvalue(pval.esc, \n",
    "               tip.length = 0.01, \n",
    "               xmin = \"xmin\", \n",
    "               xmax = \"xmax\",\n",
    "               label.size = 5, \n",
    "               bracket.size = 0.7) +\n",
    "\n",
    "    theme(axis.text.x=element_text(color = \"black\", angle=45, vjust=.5))+\n",
    "    theme(legend.position = 'none', plot.title = element_text(size=20))"
   ]
  },
  {
   "cell_type": "code",
   "execution_count": 33,
   "id": "278f083c-6639-4536-beaf-82f6643e1f0f",
   "metadata": {},
   "outputs": [],
   "source": [
    "p.hela <- ggplot(data=hela.data, aes(x = Genotype, y = `DL.Tryptophan..neg.`)) +\n",
    "    geom_jitter(aes(color = Genotype), \n",
    "                position = position_jitterdodge(jitter.width = 0.1, dodge.width = 0.5), \n",
    "                size = 5)+\n",
    "    xlab(NULL)+\n",
    "    scale_y_continuous(limits = c(24.6, 25.462), breaks = seq(24.6, 25.4, 0.2))+\n",
    "    theme_dose(20)+ylab(NULL)+\n",
    "    ggtitle(\"HeLa\")+\n",
    "    scale_color_manual(values=c(\"steelblue\", \"#8b0000\"))+\n",
    "    stat_summary(aes(group=Genotype), position=position_dodge(.5), \n",
    "                 geom = \"errorbar\", width = 0.145, size = 1.3, fun.min = min, fun.max = max)+\n",
    "    stat_summary(aes(group=Genotype), position=position_dodge(.5), fun = mean, na.rm = TRUE, \n",
    "               geom = \"point\", color = \"black\", \n",
    "               size = 10, shape = \"-\") +\n",
    "\n",
    "    add_pvalue(pval.hela,  \n",
    "               tip.length = 0.01, \n",
    "               xmin = \"xmin\", \n",
    "               xmax = \"xmax\",\n",
    "               label.size = 5, \n",
    "               bracket.size = 0.7)+\n",
    "\n",
    "    theme(axis.text.x=element_text(color = \"black\", angle=45, vjust=.5))+\n",
    "    theme(legend.position = 'none', plot.title = element_text(size=20))"
   ]
  },
  {
   "cell_type": "code",
   "execution_count": 34,
   "id": "c9d7c53b-ca10-4859-9fd4-719766a6ec5a",
   "metadata": {},
   "outputs": [],
   "source": [
    "p.shsy <- ggplot(data=data.shsy, aes(x = Genotype, y = `tryptophan_202_12.84`)) +\n",
    "    geom_jitter(aes(color = Genotype), \n",
    "                position = position_jitterdodge(jitter.width = 0.1, dodge.width = 0.5), \n",
    "                size = 5)+\n",
    "    #ylim(-2,2)+\n",
    "    xlab(NULL)+\n",
    "    scale_y_continuous(limits = c(-0.8, 0), breaks = seq(-0.8, 0, 0.2))+\n",
    "    theme_dose(20)+ylab(NULL)+\n",
    "    ggtitle(\"SH-SY5Y\")+\n",
    "    scale_color_manual(values=c(\"steelblue\", \"#8b0000\"))+\n",
    "    stat_summary(aes(group=Genotype), position=position_dodge(.5), \n",
    "                 geom = \"errorbar\", width = 0.145, size = 1.3, fun.min = min, fun.max = max)+\n",
    "    stat_summary(aes(group=Genotype), position=position_dodge(.5), fun = mean, na.rm = TRUE, \n",
    "               geom = \"point\", color = \"black\", \n",
    "               size = 10, shape = \"-\") +\n",
    "\n",
    "    add_pvalue(pval.shsy,  \n",
    "               tip.length = 0.01, \n",
    "               xmin = \"xmin\", \n",
    "               xmax = \"xmax\",\n",
    "               label.size = 5, \n",
    "               bracket.size = 0.7)+\n",
    "\n",
    "    theme(axis.text.x=element_text(color = \"black\", angle=45, vjust=.5))+\n",
    "    theme(legend.position = 'none', plot.title = element_text(size=20))"
   ]
  },
  {
   "cell_type": "code",
   "execution_count": 35,
   "id": "61d0e1ee-ace5-4e8b-9de7-ad71ec2f98f9",
   "metadata": {},
   "outputs": [
    {
     "data": {
      "image/png": "[encoded data removed]",
      "text/plain": [
       "plot without title"
      ]
     },
     "metadata": {
      "image/png": {
       "height": 420,
       "width": 420
      }
     },
     "output_type": "display_data"
    }
   ],
   "source": [
    "ggarrange(p.esc, p.hela, p.shsy, align = 'v',\n",
    "          font.label = list(size = 22, face = \"bold\"),\n",
    "          ncol = 3, nrow = 1)"
   ]
  },
  {
   "cell_type": "code",
   "execution_count": null,
   "id": "fd2752bd-7ed2-4344-ac25-3babd21b2f08",
   "metadata": {},
   "outputs": [],
   "source": []
  }
 ],
 "metadata": {
  "kernelspec": {
   "display_name": "R",
   "language": "R",
   "name": "ir"
  },
  "language_info": {
   "codemirror_mode": "r",
   "file_extension": ".r",
   "mimetype": "text/x-r-source",
   "name": "R",
   "pygments_lexer": "r",
   "version": "4.4.1"
  }
 },
 "nbformat": 4,
 "nbformat_minor": 5
}
